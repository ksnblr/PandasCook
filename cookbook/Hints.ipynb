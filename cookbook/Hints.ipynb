{
 "cells": [
  {
   "cell_type": "markdown",
   "metadata": {},
   "source": [
    "# Hints\n",
    "- me = df['Func Indus Resp'].str.contains('XKK')\n",
    "-  nt_rel = df['Func State'] != 'Released'\n",
    "- release = df['Func Regular Name'].str.contains('FD04')\n",
    "- imp_st = df['Implement State'] == 'Done'\n",
    "- qaj = df['QA Judgment'].str.contains('Red')\n",
    "- df[me & release&nt_rel&qaj]"
   ]
  },
  {
   "cell_type": "code",
   "execution_count": 1,
   "metadata": {},
   "outputs": [],
   "source": [
    "def get_child_or_adult(person):\n",
    "    age,sex = person\n",
    "    if age <12 :\n",
    "        return \"Child\"\n",
    "    else:\n",
    "        return sex\n",
    "    "
   ]
  },
  {
   "cell_type": "code",
   "execution_count": 2,
   "metadata": {},
   "outputs": [],
   "source": [
    "#t['new2'] = t[['Age','Sex']].apply(get_child_or_adult, axis=1)"
   ]
  },
  {
   "cell_type": "code",
   "execution_count": null,
   "metadata": {},
   "outputs": [],
   "source": []
  }
 ],
 "metadata": {
  "kernelspec": {
   "display_name": "Python 2",
   "language": "python",
   "name": "python2"
  },
  "language_info": {
   "codemirror_mode": {
    "name": "ipython",
    "version": 2
   },
   "file_extension": ".py",
   "mimetype": "text/x-python",
   "name": "python",
   "nbconvert_exporter": "python",
   "pygments_lexer": "ipython2",
   "version": "2.7.14"
  }
 },
 "nbformat": 4,
 "nbformat_minor": 2
}
