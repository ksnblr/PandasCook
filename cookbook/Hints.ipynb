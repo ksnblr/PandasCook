{
 "cells": [
  {
   "cell_type": "markdown",
   "metadata": {},
   "source": [
    "# Hints\n",
    "- me = df['Func Indus Resp'].str.contains('XKK')\n",
    "-  nt_rel = df['Func State'] != 'Released'\n",
    "- release = df['Func Regular Name'].str.contains('FD04')\n",
    "- imp_st = df['Implement State'] == 'Done'\n",
    "- qaj = df['QA Judgment'].str.contains('Red')\n",
    "- df[me & release&nt_rel&qaj]"
   ]
  },
  {
   "cell_type": "code",
   "execution_count": null,
   "metadata": {},
   "outputs": [],
   "source": []
  }
 ],
 "metadata": {
  "kernelspec": {
   "display_name": "Python 3",
   "language": "python",
   "name": "python3"
  },
  "language_info": {
   "codemirror_mode": {
    "name": "ipython",
    "version": 3
   },
   "file_extension": ".py",
   "mimetype": "text/x-python",
   "name": "python",
   "nbconvert_exporter": "python",
   "pygments_lexer": "ipython3",
   "version": "3.6.5"
  }
 },
 "nbformat": 4,
 "nbformat_minor": 2
}
